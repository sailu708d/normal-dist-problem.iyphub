{
  "nbformat": 4,
  "nbformat_minor": 0,
  "metadata": {
    "colab": {
      "provenance": [],
      "authorship_tag": "ABX9TyPk+DQRD/ubEguvqI8bbC+/",
      "include_colab_link": true
    },
    "kernelspec": {
      "name": "ir",
      "display_name": "R"
    },
    "language_info": {
      "name": "R"
    }
  },
  "cells": [
    {
      "cell_type": "markdown",
      "metadata": {
        "id": "view-in-github",
        "colab_type": "text"
      },
      "source": [
        "<a href=\"https://colab.research.google.com/github/sailu708d/normal-dist-problem.iyphub/blob/main/normal_dist_problm.ipynb\" target=\"_parent\"><img src=\"https://colab.research.google.com/assets/colab-badge.svg\" alt=\"Open In Colab\"/></a>"
      ]
    },
    {
      "cell_type": "code",
      "execution_count": null,
      "metadata": {
        "colab": {
          "base_uri": "https://localhost:8080/"
        },
        "id": "dMWQPOC04h-Y",
        "outputId": "057f738c-a32c-4015-96ee-b5bbfcd95d24"
      },
      "outputs": [
        {
          "output_type": "execute_result",
          "data": {
            "text/plain": [
              "0.14254260383881612"
            ]
          },
          "metadata": {},
          "execution_count": 2
        }
      ],
      "source": [
        "from scipy import stats\n",
        "stats.norm.cdf(680,711,29)"
      ]
    },
    {
      "cell_type": "code",
      "source": [
        "1-stats.norm.cdf(680,711,29)"
      ],
      "metadata": {
        "colab": {
          "base_uri": "https://localhost:8080/"
        },
        "id": "gsPjUyWd4u9w",
        "outputId": "ae89050f-756b-4f6e-86d5-71b22089caa6"
      },
      "execution_count": null,
      "outputs": [
        {
          "output_type": "execute_result",
          "data": {
            "text/plain": [
              "0.8574573961611839"
            ]
          },
          "metadata": {},
          "execution_count": 4
        }
      ]
    },
    {
      "cell_type": "code",
      "source": [
        "stats.norm.cdf(70,60,10)"
      ],
      "metadata": {
        "colab": {
          "base_uri": "https://localhost:8080/"
        },
        "id": "I46qo2SY40hK",
        "outputId": "22390a02-8476-4a5c-d2cf-2eeb78bc9853"
      },
      "execution_count": null,
      "outputs": [
        {
          "output_type": "execute_result",
          "data": {
            "text/plain": [
              "0.8413447460685429"
            ]
          },
          "metadata": {},
          "execution_count": 6
        }
      ]
    },
    {
      "cell_type": "code",
      "source": [
        "1-stats.norm.cdf(70,60,10)"
      ],
      "metadata": {
        "colab": {
          "base_uri": "https://localhost:8080/"
        },
        "id": "nIMMr0YZ4-v1",
        "outputId": "63178093-609e-4083-d24d-9a44edf7e10c"
      },
      "execution_count": null,
      "outputs": [
        {
          "output_type": "execute_result",
          "data": {
            "text/plain": [
              "0.15865525393145707"
            ]
          },
          "metadata": {},
          "execution_count": 8
        }
      ]
    },
    {
      "cell_type": "code",
      "source": [
        "stats.norm.cdf(740,711,29)-stats.norm.cdf(697,711,29)"
      ],
      "metadata": {
        "id": "s8Z1LZzG5FvH"
      },
      "execution_count": null,
      "outputs": []
    },
    {
      "cell_type": "code",
      "source": [
        "pnorm(70,60,10)"
      ],
      "metadata": {
        "colab": {
          "base_uri": "https://localhost:8080/",
          "height": 34
        },
        "id": "SzIVAFFx5Zdh",
        "outputId": "0451e2e0-6449-4990-92db-61498d232997"
      },
      "execution_count": null,
      "outputs": [
        {
          "output_type": "display_data",
          "data": {
            "text/html": [
              "0.841344746068543"
            ],
            "text/markdown": "0.841344746068543",
            "text/latex": "0.841344746068543",
            "text/plain": [
              "[1] 0.8413447"
            ]
          },
          "metadata": {}
        }
      ]
    },
    {
      "cell_type": "code",
      "source": [
        "1-pnorm(70,60,10)"
      ],
      "metadata": {
        "colab": {
          "base_uri": "https://localhost:8080/",
          "height": 34
        },
        "id": "Hf40YlBU5dD1",
        "outputId": "8f2d904c-6db2-42f6-aee8-1a4c52bbc2c4"
      },
      "execution_count": null,
      "outputs": [
        {
          "output_type": "display_data",
          "data": {
            "text/html": [
              "0.158655253931457"
            ],
            "text/markdown": "0.158655253931457",
            "text/latex": "0.158655253931457",
            "text/plain": [
              "[1] 0.1586553"
            ]
          },
          "metadata": {}
        }
      ]
    },
    {
      "cell_type": "code",
      "source": [
        "pnorm(680,711,29)"
      ],
      "metadata": {
        "colab": {
          "base_uri": "https://localhost:8080/",
          "height": 34
        },
        "id": "vTna9kiM5hPw",
        "outputId": "4bacb1ad-2af5-4ad5-cfd1-d249f85b7a57"
      },
      "execution_count": null,
      "outputs": [
        {
          "output_type": "display_data",
          "data": {
            "text/html": [
              "0.142542603838816"
            ],
            "text/markdown": "0.142542603838816",
            "text/latex": "0.142542603838816",
            "text/plain": [
              "[1] 0.1425426"
            ]
          },
          "metadata": {}
        }
      ]
    },
    {
      "cell_type": "code",
      "source": [
        "1-pnorm(680,711,29)"
      ],
      "metadata": {
        "colab": {
          "base_uri": "https://localhost:8080/",
          "height": 34
        },
        "id": "F9BvrNmS5kLn",
        "outputId": "32c461c7-2f29-4dfa-bf7b-d4b1850a6f5a"
      },
      "execution_count": null,
      "outputs": [
        {
          "output_type": "display_data",
          "data": {
            "text/html": [
              "0.857457396161184"
            ],
            "text/markdown": "0.857457396161184",
            "text/latex": "0.857457396161184",
            "text/plain": [
              "[1] 0.8574574"
            ]
          },
          "metadata": {}
        }
      ]
    },
    {
      "cell_type": "code",
      "source": [
        "pnorm(740,711,29)-pnorm(697,711,29)"
      ],
      "metadata": {
        "colab": {
          "base_uri": "https://localhost:8080/",
          "height": 34
        },
        "id": "U4xXVjgG5n2c",
        "outputId": "06940c7b-8baa-48af-b2af-373275660373"
      },
      "execution_count": null,
      "outputs": [
        {
          "output_type": "display_data",
          "data": {
            "text/html": [
              "0.526711178641502"
            ],
            "text/markdown": "0.526711178641502",
            "text/latex": "0.526711178641502",
            "text/plain": [
              "[1] 0.5267112"
            ]
          },
          "metadata": {}
        }
      ]
    }
  ]
}